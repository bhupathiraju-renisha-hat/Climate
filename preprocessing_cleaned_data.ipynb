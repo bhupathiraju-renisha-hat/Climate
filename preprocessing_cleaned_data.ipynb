{
 "cells": [
  {
   "cell_type": "code",
   "execution_count": 1,
   "id": "1f8eae36",
   "metadata": {},
   "outputs": [],
   "source": [
    "import pandas as pd\n",
    "import numpy as np\n",
    "import seaborn as sns\n",
    "import matplotlib.pyplot as plt"
   ]
  },
  {
   "cell_type": "code",
   "execution_count": 2,
   "id": "9dc7102e",
   "metadata": {},
   "outputs": [],
   "source": [
    "filepath= (\"/Users/bhupathiraju_renisha/Desktop/Climate/cleaned_data.csv\")"
   ]
  },
  {
   "cell_type": "code",
   "execution_count": 3,
   "id": "20357475",
   "metadata": {},
   "outputs": [],
   "source": [
    "df=pd.read_csv(filepath)"
   ]
  },
  {
   "cell_type": "code",
   "execution_count": 4,
   "id": "4e7c2e14",
   "metadata": {},
   "outputs": [
    {
     "data": {
      "text/html": [
       "<div>\n",
       "<style scoped>\n",
       "    .dataframe tbody tr th:only-of-type {\n",
       "        vertical-align: middle;\n",
       "    }\n",
       "\n",
       "    .dataframe tbody tr th {\n",
       "        vertical-align: top;\n",
       "    }\n",
       "\n",
       "    .dataframe thead th {\n",
       "        text-align: right;\n",
       "    }\n",
       "</style>\n",
       "<table border=\"1\" class=\"dataframe\">\n",
       "  <thead>\n",
       "    <tr style=\"text-align: right;\">\n",
       "      <th></th>\n",
       "      <th>datetime (UTC)</th>\n",
       "      <th>coordinates (lat,lon)</th>\n",
       "      <th>temperature (degC)</th>\n",
       "      <th>total_precipitation (mm of water equivalent)</th>\n",
       "      <th>relative_humidity (0-1)</th>\n",
       "      <th>model (name)</th>\n",
       "      <th>model elevation (surface)</th>\n",
       "      <th>utc_offset (hrs)</th>\n",
       "      <th>10m_u_component_of_wind (m/s)</th>\n",
       "      <th>10m_v_component_of_wind (m/s)</th>\n",
       "    </tr>\n",
       "  </thead>\n",
       "  <tbody>\n",
       "    <tr>\n",
       "      <th>0</th>\n",
       "      <td>2005-01-01 00:00:00</td>\n",
       "      <td>(17.361362, 78.474525)</td>\n",
       "      <td>17.94</td>\n",
       "      <td>0.0</td>\n",
       "      <td>0.91</td>\n",
       "      <td>era5</td>\n",
       "      <td>563.89</td>\n",
       "      <td>5.5</td>\n",
       "      <td>-2.04</td>\n",
       "      <td>1.87</td>\n",
       "    </tr>\n",
       "    <tr>\n",
       "      <th>1</th>\n",
       "      <td>2005-01-01 01:00:00</td>\n",
       "      <td>(17.361362, 78.474525)</td>\n",
       "      <td>17.92</td>\n",
       "      <td>0.0</td>\n",
       "      <td>0.93</td>\n",
       "      <td>era5</td>\n",
       "      <td>563.89</td>\n",
       "      <td>5.5</td>\n",
       "      <td>-2.10</td>\n",
       "      <td>1.83</td>\n",
       "    </tr>\n",
       "    <tr>\n",
       "      <th>2</th>\n",
       "      <td>2005-01-01 02:00:00</td>\n",
       "      <td>(17.361362, 78.474525)</td>\n",
       "      <td>19.86</td>\n",
       "      <td>0.0</td>\n",
       "      <td>0.87</td>\n",
       "      <td>era5</td>\n",
       "      <td>563.89</td>\n",
       "      <td>5.5</td>\n",
       "      <td>-2.61</td>\n",
       "      <td>2.36</td>\n",
       "    </tr>\n",
       "    <tr>\n",
       "      <th>3</th>\n",
       "      <td>2005-01-01 03:00:00</td>\n",
       "      <td>(17.361362, 78.474525)</td>\n",
       "      <td>20.47</td>\n",
       "      <td>0.0</td>\n",
       "      <td>0.82</td>\n",
       "      <td>era5</td>\n",
       "      <td>563.89</td>\n",
       "      <td>5.5</td>\n",
       "      <td>-2.76</td>\n",
       "      <td>2.78</td>\n",
       "    </tr>\n",
       "    <tr>\n",
       "      <th>4</th>\n",
       "      <td>2005-01-01 04:00:00</td>\n",
       "      <td>(17.361362, 78.474525)</td>\n",
       "      <td>21.34</td>\n",
       "      <td>0.0</td>\n",
       "      <td>0.75</td>\n",
       "      <td>era5</td>\n",
       "      <td>563.89</td>\n",
       "      <td>5.5</td>\n",
       "      <td>-2.79</td>\n",
       "      <td>2.99</td>\n",
       "    </tr>\n",
       "  </tbody>\n",
       "</table>\n",
       "</div>"
      ],
      "text/plain": [
       "        datetime (UTC)   coordinates (lat,lon)  temperature (degC)  \\\n",
       "0  2005-01-01 00:00:00  (17.361362, 78.474525)               17.94   \n",
       "1  2005-01-01 01:00:00  (17.361362, 78.474525)               17.92   \n",
       "2  2005-01-01 02:00:00  (17.361362, 78.474525)               19.86   \n",
       "3  2005-01-01 03:00:00  (17.361362, 78.474525)               20.47   \n",
       "4  2005-01-01 04:00:00  (17.361362, 78.474525)               21.34   \n",
       "\n",
       "   total_precipitation (mm of water equivalent)  relative_humidity (0-1)  \\\n",
       "0                                           0.0                     0.91   \n",
       "1                                           0.0                     0.93   \n",
       "2                                           0.0                     0.87   \n",
       "3                                           0.0                     0.82   \n",
       "4                                           0.0                     0.75   \n",
       "\n",
       "  model (name)  model elevation (surface)  utc_offset (hrs)  \\\n",
       "0         era5                     563.89               5.5   \n",
       "1         era5                     563.89               5.5   \n",
       "2         era5                     563.89               5.5   \n",
       "3         era5                     563.89               5.5   \n",
       "4         era5                     563.89               5.5   \n",
       "\n",
       "   10m_u_component_of_wind (m/s)  10m_v_component_of_wind (m/s)  \n",
       "0                          -2.04                           1.87  \n",
       "1                          -2.10                           1.83  \n",
       "2                          -2.61                           2.36  \n",
       "3                          -2.76                           2.78  \n",
       "4                          -2.79                           2.99  "
      ]
     },
     "execution_count": 4,
     "metadata": {},
     "output_type": "execute_result"
    }
   ],
   "source": [
    "df.head()"
   ]
  },
  {
   "cell_type": "code",
   "execution_count": 5,
   "id": "898f1dfd",
   "metadata": {},
   "outputs": [
    {
     "data": {
      "text/html": [
       "<div>\n",
       "<style scoped>\n",
       "    .dataframe tbody tr th:only-of-type {\n",
       "        vertical-align: middle;\n",
       "    }\n",
       "\n",
       "    .dataframe tbody tr th {\n",
       "        vertical-align: top;\n",
       "    }\n",
       "\n",
       "    .dataframe thead th {\n",
       "        text-align: right;\n",
       "    }\n",
       "</style>\n",
       "<table border=\"1\" class=\"dataframe\">\n",
       "  <thead>\n",
       "    <tr style=\"text-align: right;\">\n",
       "      <th></th>\n",
       "      <th>datetime (UTC)</th>\n",
       "      <th>coordinates (lat,lon)</th>\n",
       "      <th>temperature (degC)</th>\n",
       "      <th>total_precipitation (mm of water equivalent)</th>\n",
       "      <th>relative_humidity (0-1)</th>\n",
       "      <th>model (name)</th>\n",
       "      <th>model elevation (surface)</th>\n",
       "      <th>utc_offset (hrs)</th>\n",
       "      <th>10m_u_component_of_wind (m/s)</th>\n",
       "      <th>10m_v_component_of_wind (m/s)</th>\n",
       "    </tr>\n",
       "  </thead>\n",
       "  <tbody>\n",
       "    <tr>\n",
       "      <th>175315</th>\n",
       "      <td>2024-12-31 19:00:00</td>\n",
       "      <td>(17.361362, 78.474525)</td>\n",
       "      <td>21.07</td>\n",
       "      <td>0.01</td>\n",
       "      <td>0.77</td>\n",
       "      <td>era5</td>\n",
       "      <td>563.89</td>\n",
       "      <td>5.5</td>\n",
       "      <td>-1.75</td>\n",
       "      <td>-0.42</td>\n",
       "    </tr>\n",
       "    <tr>\n",
       "      <th>175316</th>\n",
       "      <td>2024-12-31 20:00:00</td>\n",
       "      <td>(17.361362, 78.474525)</td>\n",
       "      <td>19.95</td>\n",
       "      <td>0.00</td>\n",
       "      <td>0.81</td>\n",
       "      <td>era5</td>\n",
       "      <td>563.89</td>\n",
       "      <td>5.5</td>\n",
       "      <td>-1.68</td>\n",
       "      <td>-0.32</td>\n",
       "    </tr>\n",
       "    <tr>\n",
       "      <th>175317</th>\n",
       "      <td>2024-12-31 21:00:00</td>\n",
       "      <td>(17.361362, 78.474525)</td>\n",
       "      <td>19.30</td>\n",
       "      <td>0.00</td>\n",
       "      <td>0.83</td>\n",
       "      <td>era5</td>\n",
       "      <td>563.89</td>\n",
       "      <td>5.5</td>\n",
       "      <td>-1.47</td>\n",
       "      <td>-0.45</td>\n",
       "    </tr>\n",
       "    <tr>\n",
       "      <th>175318</th>\n",
       "      <td>2024-12-31 22:00:00</td>\n",
       "      <td>(17.361362, 78.474525)</td>\n",
       "      <td>18.76</td>\n",
       "      <td>0.00</td>\n",
       "      <td>0.89</td>\n",
       "      <td>era5</td>\n",
       "      <td>563.89</td>\n",
       "      <td>5.5</td>\n",
       "      <td>-1.49</td>\n",
       "      <td>-0.38</td>\n",
       "    </tr>\n",
       "    <tr>\n",
       "      <th>175319</th>\n",
       "      <td>2024-12-31 23:00:00</td>\n",
       "      <td>(17.361362, 78.474525)</td>\n",
       "      <td>18.23</td>\n",
       "      <td>0.00</td>\n",
       "      <td>0.90</td>\n",
       "      <td>era5</td>\n",
       "      <td>563.89</td>\n",
       "      <td>5.5</td>\n",
       "      <td>-2.09</td>\n",
       "      <td>-0.74</td>\n",
       "    </tr>\n",
       "  </tbody>\n",
       "</table>\n",
       "</div>"
      ],
      "text/plain": [
       "             datetime (UTC)   coordinates (lat,lon)  temperature (degC)  \\\n",
       "175315  2024-12-31 19:00:00  (17.361362, 78.474525)               21.07   \n",
       "175316  2024-12-31 20:00:00  (17.361362, 78.474525)               19.95   \n",
       "175317  2024-12-31 21:00:00  (17.361362, 78.474525)               19.30   \n",
       "175318  2024-12-31 22:00:00  (17.361362, 78.474525)               18.76   \n",
       "175319  2024-12-31 23:00:00  (17.361362, 78.474525)               18.23   \n",
       "\n",
       "        total_precipitation (mm of water equivalent)  relative_humidity (0-1)  \\\n",
       "175315                                          0.01                     0.77   \n",
       "175316                                          0.00                     0.81   \n",
       "175317                                          0.00                     0.83   \n",
       "175318                                          0.00                     0.89   \n",
       "175319                                          0.00                     0.90   \n",
       "\n",
       "       model (name)  model elevation (surface)  utc_offset (hrs)  \\\n",
       "175315         era5                     563.89               5.5   \n",
       "175316         era5                     563.89               5.5   \n",
       "175317         era5                     563.89               5.5   \n",
       "175318         era5                     563.89               5.5   \n",
       "175319         era5                     563.89               5.5   \n",
       "\n",
       "        10m_u_component_of_wind (m/s)  10m_v_component_of_wind (m/s)  \n",
       "175315                          -1.75                          -0.42  \n",
       "175316                          -1.68                          -0.32  \n",
       "175317                          -1.47                          -0.45  \n",
       "175318                          -1.49                          -0.38  \n",
       "175319                          -2.09                          -0.74  "
      ]
     },
     "execution_count": 5,
     "metadata": {},
     "output_type": "execute_result"
    }
   ],
   "source": [
    "df.tail()"
   ]
  },
  {
   "cell_type": "code",
   "execution_count": 6,
   "id": "c569ae04",
   "metadata": {},
   "outputs": [
    {
     "data": {
      "text/plain": [
       "(175320, 10)"
      ]
     },
     "execution_count": 6,
     "metadata": {},
     "output_type": "execute_result"
    }
   ],
   "source": [
    "df.shape"
   ]
  },
  {
   "cell_type": "code",
   "execution_count": 7,
   "id": "bdf54ade",
   "metadata": {},
   "outputs": [
    {
     "name": "stdout",
     "output_type": "stream",
     "text": [
      "<class 'pandas.core.frame.DataFrame'>\n",
      "RangeIndex: 175320 entries, 0 to 175319\n",
      "Data columns (total 10 columns):\n",
      " #   Column                                        Non-Null Count   Dtype  \n",
      "---  ------                                        --------------   -----  \n",
      " 0   datetime (UTC)                                175320 non-null  object \n",
      " 1   coordinates (lat,lon)                         175320 non-null  object \n",
      " 2   temperature (degC)                            175320 non-null  float64\n",
      " 3   total_precipitation (mm of water equivalent)  175320 non-null  float64\n",
      " 4   relative_humidity (0-1)                       175320 non-null  float64\n",
      " 5   model (name)                                  175320 non-null  object \n",
      " 6   model elevation (surface)                     175320 non-null  float64\n",
      " 7   utc_offset (hrs)                              175320 non-null  float64\n",
      " 8   10m_u_component_of_wind (m/s)                 175320 non-null  float64\n",
      " 9   10m_v_component_of_wind (m/s)                 175320 non-null  float64\n",
      "dtypes: float64(7), object(3)\n",
      "memory usage: 13.4+ MB\n"
     ]
    }
   ],
   "source": [
    "df.info()"
   ]
  },
  {
   "cell_type": "code",
   "execution_count": 8,
   "id": "91b1341f",
   "metadata": {},
   "outputs": [
    {
     "data": {
      "text/plain": [
       "datetime (UTC)                                   object\n",
       "coordinates (lat,lon)                            object\n",
       "temperature (degC)                              float64\n",
       "total_precipitation (mm of water equivalent)    float64\n",
       "relative_humidity (0-1)                         float64\n",
       "model (name)                                     object\n",
       "model elevation (surface)                       float64\n",
       "utc_offset (hrs)                                float64\n",
       "10m_u_component_of_wind (m/s)                   float64\n",
       "10m_v_component_of_wind (m/s)                   float64\n",
       "dtype: object"
      ]
     },
     "execution_count": 8,
     "metadata": {},
     "output_type": "execute_result"
    }
   ],
   "source": [
    "df.dtypes"
   ]
  },
  {
   "cell_type": "code",
   "execution_count": 9,
   "id": "95839ddc",
   "metadata": {},
   "outputs": [
    {
     "data": {
      "text/plain": [
       "datetime (UTC)                                  0\n",
       "coordinates (lat,lon)                           0\n",
       "temperature (degC)                              0\n",
       "total_precipitation (mm of water equivalent)    0\n",
       "relative_humidity (0-1)                         0\n",
       "model (name)                                    0\n",
       "model elevation (surface)                       0\n",
       "utc_offset (hrs)                                0\n",
       "10m_u_component_of_wind (m/s)                   0\n",
       "10m_v_component_of_wind (m/s)                   0\n",
       "dtype: int64"
      ]
     },
     "execution_count": 9,
     "metadata": {},
     "output_type": "execute_result"
    }
   ],
   "source": [
    "df.isnull().sum()"
   ]
  },
  {
   "cell_type": "code",
   "execution_count": 10,
   "id": "d4300ce5",
   "metadata": {},
   "outputs": [
    {
     "data": {
      "text/plain": [
       "0"
      ]
     },
     "execution_count": 10,
     "metadata": {},
     "output_type": "execute_result"
    }
   ],
   "source": [
    "df.duplicated().sum()"
   ]
  },
  {
   "cell_type": "code",
   "execution_count": 11,
   "id": "4ced5835",
   "metadata": {},
   "outputs": [
    {
     "name": "stdout",
     "output_type": "stream",
     "text": [
      "datetime (UTC)\n",
      "2005-01-01 00:00:00    1\n",
      "2018-05-03 03:00:00    1\n",
      "2018-05-02 19:00:00    1\n",
      "2018-05-02 20:00:00    1\n",
      "2018-05-02 21:00:00    1\n",
      "                      ..\n",
      "2011-09-02 01:00:00    1\n",
      "2011-09-02 02:00:00    1\n",
      "2011-09-02 03:00:00    1\n",
      "2011-09-02 04:00:00    1\n",
      "2024-12-31 23:00:00    1\n",
      "Name: count, Length: 175320, dtype: int64\n",
      "******************************\n",
      "coordinates (lat,lon)\n",
      "(17.361362, 78.474525)    175320\n",
      "Name: count, dtype: int64\n",
      "******************************\n",
      "model (name)\n",
      "era5    175320\n",
      "Name: count, dtype: int64\n",
      "******************************\n"
     ]
    }
   ],
   "source": [
    "for i in df.select_dtypes(include=\"object\").columns:\n",
    "    print(df[i].value_counts())\n",
    "    print(\"***\"*10)"
   ]
  }
 ],
 "metadata": {
  "kernelspec": {
   "display_name": "Python 3",
   "language": "python",
   "name": "python3"
  },
  "language_info": {
   "codemirror_mode": {
    "name": "ipython",
    "version": 3
   },
   "file_extension": ".py",
   "mimetype": "text/x-python",
   "name": "python",
   "nbconvert_exporter": "python",
   "pygments_lexer": "ipython3",
   "version": "3.9.6"
  }
 },
 "nbformat": 4,
 "nbformat_minor": 5
}
