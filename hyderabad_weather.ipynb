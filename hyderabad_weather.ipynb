{
 "cells": [
  {
   "cell_type": "code",
   "execution_count": null,
   "id": "6a71422a",
   "metadata": {},
   "outputs": [
    {
     "name": "stdout",
     "output_type": "stream",
     "text": [
      "        datetime (UTC)   coordinates (lat,lon) model (name)  \\\n",
      "0  2005-01-01 00:00:00  (17.361362, 78.474525)         era5   \n",
      "1  2005-01-01 01:00:00  (17.361362, 78.474525)         era5   \n",
      "2  2005-01-01 02:00:00  (17.361362, 78.474525)         era5   \n",
      "3  2005-01-01 03:00:00  (17.361362, 78.474525)         era5   \n",
      "4  2005-01-01 04:00:00  (17.361362, 78.474525)         era5   \n",
      "\n",
      "   model elevation (surface)  utc_offset (hrs)  temperature (degC)  \\\n",
      "0                     563.89               5.5               17.94   \n",
      "1                     563.89               5.5               17.92   \n",
      "2                     563.89               5.5               19.86   \n",
      "3                     563.89               5.5               20.47   \n",
      "4                     563.89               5.5               21.34   \n",
      "\n",
      "   total_precipitation (mm of water equivalent)  \n",
      "0                                           0.0  \n",
      "1                                           0.0  \n",
      "2                                           0.0  \n",
      "3                                           0.0  \n",
      "4                                           0.0  \n"
     ]
    }
   ],
   "source": [
    "import requests\n",
    "import pandas as pd\n",
    "from io import StringIO\n",
    "\n",
    "r = requests.get('https://api.oikolab.com/weather',\n",
    "                 params={'param': ['temperature', 'total_precipitation'],\n",
    "                         'location': 'Hyderabad, Telangana, India',\n",
    "                         'start': '2005-01-01',\n",
    "                         'end': '2024-12-31',\n",
    "                         'freq': 'H',\n",
    "                         'resample_method': 'mean',\n",
    "                         'format': 'csv'},\n",
    "                 headers={'api-key1': os.getenv(\"API-KEY1\")})\n",
    "\n",
    "if r.status_code == 200:\n",
    "    csv_data = r.text\n",
    "    \n",
    "    data = pd.read_csv(StringIO(csv_data))\n",
    "    \n",
    "    print(data.head())\n",
    "else:\n",
    "    print(f\"Failed to retrieve data. Status code: {r.status_code}, Error: {r.text}\")\n"
   ]
  },
  {
   "cell_type": "code",
   "execution_count": 8,
   "id": "f0040be0",
   "metadata": {},
   "outputs": [],
   "source": [
    "data.to_csv('/Users/bhupathiraju_renisha/Desktop/Climate/hyderabad_weather_data.csv', index=False)"
   ]
  },
  {
   "cell_type": "code",
   "execution_count": null,
   "id": "bd5cdaae",
   "metadata": {},
   "outputs": [
    {
     "name": "stdout",
     "output_type": "stream",
     "text": [
      "        datetime (UTC)   coordinates (lat,lon) model (name)  \\\n",
      "0  2005-01-01 00:00:00  (17.361362, 78.474525)         era5   \n",
      "1  2005-01-01 01:00:00  (17.361362, 78.474525)         era5   \n",
      "2  2005-01-01 02:00:00  (17.361362, 78.474525)         era5   \n",
      "3  2005-01-01 03:00:00  (17.361362, 78.474525)         era5   \n",
      "4  2005-01-01 04:00:00  (17.361362, 78.474525)         era5   \n",
      "\n",
      "   model elevation (surface)  utc_offset (hrs)  relative_humidity (0-1)  \n",
      "0                     563.89               5.5                     0.91  \n",
      "1                     563.89               5.5                     0.93  \n",
      "2                     563.89               5.5                     0.87  \n",
      "3                     563.89               5.5                     0.82  \n",
      "4                     563.89               5.5                     0.75  \n"
     ]
    }
   ],
   "source": [
    "import requests\n",
    "import pandas as pd\n",
    "from io import StringIO\n",
    "\n",
    "r = requests.get('https://api.oikolab.com/weather',\n",
    "             params={'param': 'relative_humidity',\n",
    "                     'location': 'Hyderabad, Telangana, India',\n",
    "                     'start': '2005-01-01',\n",
    "                     'end': '2024-12-31',\n",
    "                     'freq': 'H',\n",
    "                     'resample_method': 'mean',\n",
    "                     'format': 'csv',},\n",
    "             headers={'api-key1': os.getenv(\"API-KEY1\")})\n",
    "\n",
    "if r.status_code == 200:\n",
    "    csv_data = r.text\n",
    "    \n",
    "    data = pd.read_csv(StringIO(csv_data))\n",
    "    \n",
    "    print(data.head())\n",
    "else:\n",
    "    print(f\"Failed to retrieve data. Status code: {r.status_code}, Error: {r.text}\")"
   ]
  },
  {
   "cell_type": "code",
   "execution_count": 3,
   "id": "d80b96ad",
   "metadata": {},
   "outputs": [],
   "source": [
    "data.to_csv('/Users/bhupathiraju_renisha/Desktop/Climate/hyderabad_weather_data_rh.csv', index=False)"
   ]
  },
  {
   "cell_type": "code",
   "execution_count": null,
   "id": "96bd4ae1",
   "metadata": {},
   "outputs": [
    {
     "name": "stdout",
     "output_type": "stream",
     "text": [
      "        datetime (UTC)   coordinates (lat,lon) model (name)  \\\n",
      "0  2005-01-01 00:00:00  (17.361362, 78.474525)         era5   \n",
      "1  2005-01-01 01:00:00  (17.361362, 78.474525)         era5   \n",
      "2  2005-01-01 02:00:00  (17.361362, 78.474525)         era5   \n",
      "3  2005-01-01 03:00:00  (17.361362, 78.474525)         era5   \n",
      "4  2005-01-01 04:00:00  (17.361362, 78.474525)         era5   \n",
      "\n",
      "   model elevation (surface)  utc_offset (hrs)  10m_u_component_of_wind (m/s)  \\\n",
      "0                     563.89               5.5                          -2.04   \n",
      "1                     563.89               5.5                          -2.10   \n",
      "2                     563.89               5.5                          -2.61   \n",
      "3                     563.89               5.5                          -2.76   \n",
      "4                     563.89               5.5                          -2.79   \n",
      "\n",
      "   10m_v_component_of_wind (m/s)  \n",
      "0                           1.87  \n",
      "1                           1.83  \n",
      "2                           2.36  \n",
      "3                           2.78  \n",
      "4                           2.99  \n"
     ]
    }
   ],
   "source": [
    "import requests\n",
    "import pandas as pd\n",
    "from io import StringIO\n",
    "\n",
    "r = requests.get('https://api.oikolab.com/weather',\n",
    "             params={'param':['10m_u_component_of_wind','10m_v_component_of_wind'],\n",
    "                     'location': 'Hyderabad, Telangana, India',\n",
    "                     'start': '2005-01-01',\n",
    "                     'end': '2024-12-31',\n",
    "                     'freq': 'H',\n",
    "                     'resample_method': 'mean',\n",
    "                     'format': 'csv',},\n",
    "             headers={'api-key2': os.getenv(\"API-KEY2\")}\n",
    "             )\n",
    "\n",
    "if r.status_code == 200:\n",
    "    csv_data = r.text\n",
    "    \n",
    "    data = pd.read_csv(StringIO(csv_data))\n",
    "    \n",
    "    print(data.head())\n",
    "else:\n",
    "    print(f\"Failed to retrieve data. Status code: {r.status_code}, Error: {r.text}\")"
   ]
  },
  {
   "cell_type": "code",
   "execution_count": 10,
   "id": "058d29de",
   "metadata": {},
   "outputs": [],
   "source": [
    "data.to_csv('/Users/bhupathiraju_renisha/Desktop/Climate/hyderabad_weather_data_wind.csv', index=False)"
   ]
  },
  {
   "cell_type": "code",
   "execution_count": 13,
   "id": "6dd563ce",
   "metadata": {},
   "outputs": [
    {
     "name": "stdout",
     "output_type": "stream",
     "text": [
      "        datetime (UTC)   coordinates (lat,lon) model (name)_x  \\\n",
      "0  2005-01-01 00:00:00  (17.361362, 78.474525)           era5   \n",
      "1  2005-01-01 01:00:00  (17.361362, 78.474525)           era5   \n",
      "2  2005-01-01 02:00:00  (17.361362, 78.474525)           era5   \n",
      "3  2005-01-01 03:00:00  (17.361362, 78.474525)           era5   \n",
      "4  2005-01-01 04:00:00  (17.361362, 78.474525)           era5   \n",
      "\n",
      "   model elevation (surface)_x  utc_offset (hrs)_x  temperature (degC)  \\\n",
      "0                       563.89                 5.5               17.94   \n",
      "1                       563.89                 5.5               17.92   \n",
      "2                       563.89                 5.5               19.86   \n",
      "3                       563.89                 5.5               20.47   \n",
      "4                       563.89                 5.5               21.34   \n",
      "\n",
      "   total_precipitation (mm of water equivalent) model (name)_y  \\\n",
      "0                                           0.0           era5   \n",
      "1                                           0.0           era5   \n",
      "2                                           0.0           era5   \n",
      "3                                           0.0           era5   \n",
      "4                                           0.0           era5   \n",
      "\n",
      "   model elevation (surface)_y  utc_offset (hrs)_y  relative_humidity (0-1)  \\\n",
      "0                       563.89                 5.5                     0.91   \n",
      "1                       563.89                 5.5                     0.93   \n",
      "2                       563.89                 5.5                     0.87   \n",
      "3                       563.89                 5.5                     0.82   \n",
      "4                       563.89                 5.5                     0.75   \n",
      "\n",
      "  model (name)  model elevation (surface)  utc_offset (hrs)  \\\n",
      "0         era5                     563.89               5.5   \n",
      "1         era5                     563.89               5.5   \n",
      "2         era5                     563.89               5.5   \n",
      "3         era5                     563.89               5.5   \n",
      "4         era5                     563.89               5.5   \n",
      "\n",
      "   10m_u_component_of_wind (m/s)  10m_v_component_of_wind (m/s)  \n",
      "0                          -2.04                           1.87  \n",
      "1                          -2.10                           1.83  \n",
      "2                          -2.61                           2.36  \n",
      "3                          -2.76                           2.78  \n",
      "4                          -2.79                           2.99  \n"
     ]
    }
   ],
   "source": [
    "import pandas as pd\n",
    "\n",
    "df_temp = pd.read_csv('/Users/bhupathiraju_renisha/Desktop/Climate/hyderabad_weather_data.csv')  \n",
    "df_humidity = pd.read_csv('/Users/bhupathiraju_renisha/Desktop/Climate/hyderabad_weather_data_rh.csv')  \n",
    "df_wind = pd.read_csv('/Users/bhupathiraju_renisha/Desktop/Climate/hyderabad_weather_data_wind.csv') \n",
    "\n",
    "merged_df = pd.merge(df_temp, df_humidity, on=['datetime (UTC)', 'coordinates (lat,lon)'], how='outer')\n",
    "merged_df = pd.merge(merged_df, df_wind, on=['datetime (UTC)', 'coordinates (lat,lon)'], how='outer')\n",
    "\n",
    "merged_df.to_csv('merged_data.csv', index=False)\n",
    "\n",
    "print(merged_df.head())\n"
   ]
  }
 ],
 "metadata": {
  "kernelspec": {
   "display_name": "Python 3",
   "language": "python",
   "name": "python3"
  },
  "language_info": {
   "codemirror_mode": {
    "name": "ipython",
    "version": 3
   },
   "file_extension": ".py",
   "mimetype": "text/x-python",
   "name": "python",
   "nbconvert_exporter": "python",
   "pygments_lexer": "ipython3",
   "version": "3.9.6"
  }
 },
 "nbformat": 4,
 "nbformat_minor": 5
}
