{
 "cells": [
  {
   "cell_type": "code",
   "execution_count": 1,
   "id": "a17c352e",
   "metadata": {},
   "outputs": [
    {
     "name": "stdout",
     "output_type": "stream",
     "text": [
      "Defaulting to user installation because normal site-packages is not writeable\n",
      "Requirement already satisfied: xarray in /Users/bhupathiraju_renisha/Library/Python/3.9/lib/python/site-packages (2024.7.0)\n",
      "Requirement already satisfied: numpy>=1.23 in /Users/bhupathiraju_renisha/Library/Python/3.9/lib/python/site-packages (from xarray) (1.26.4)\n",
      "Requirement already satisfied: packaging>=23.1 in /Users/bhupathiraju_renisha/Library/Python/3.9/lib/python/site-packages (from xarray) (24.2)\n",
      "Requirement already satisfied: pandas>=2.0 in /Users/bhupathiraju_renisha/Library/Python/3.9/lib/python/site-packages (from xarray) (2.2.3)\n",
      "Requirement already satisfied: python-dateutil>=2.8.2 in /Users/bhupathiraju_renisha/Library/Python/3.9/lib/python/site-packages (from pandas>=2.0->xarray) (2.9.0.post0)\n",
      "Requirement already satisfied: pytz>=2020.1 in /Users/bhupathiraju_renisha/Library/Python/3.9/lib/python/site-packages (from pandas>=2.0->xarray) (2024.2)\n",
      "Requirement already satisfied: tzdata>=2022.7 in /Users/bhupathiraju_renisha/Library/Python/3.9/lib/python/site-packages (from pandas>=2.0->xarray) (2025.1)\n",
      "Requirement already satisfied: six>=1.5 in /Library/Developer/CommandLineTools/Library/Frameworks/Python3.framework/Versions/3.9/lib/python3.9/site-packages (from python-dateutil>=2.8.2->pandas>=2.0->xarray) (1.15.0)\n",
      "\n",
      "\u001b[1m[\u001b[0m\u001b[34;49mnotice\u001b[0m\u001b[1;39;49m]\u001b[0m\u001b[39;49m A new release of pip is available: \u001b[0m\u001b[31;49m25.0.1\u001b[0m\u001b[39;49m -> \u001b[0m\u001b[32;49m25.1.1\u001b[0m\n",
      "\u001b[1m[\u001b[0m\u001b[34;49mnotice\u001b[0m\u001b[1;39;49m]\u001b[0m\u001b[39;49m To update, run: \u001b[0m\u001b[32;49m/Library/Developer/CommandLineTools/usr/bin/python3 -m pip install --upgrade pip\u001b[0m\n",
      "Note: you may need to restart the kernel to use updated packages.\n"
     ]
    }
   ],
   "source": [
    "pip install xarray"
   ]
  },
  {
   "cell_type": "code",
   "execution_count": 2,
   "id": "275d91f1",
   "metadata": {},
   "outputs": [],
   "source": [
    "import xarray as xr\n",
    "import pandas as pd"
   ]
  },
  {
   "cell_type": "code",
   "execution_count": 3,
   "id": "7916f419",
   "metadata": {},
   "outputs": [],
   "source": [
    "data = xr.open_dataset('/Users/bhupathiraju_renisha/Downloads/data_stream-oper_stepType-instant.nc')"
   ]
  },
  {
   "cell_type": "code",
   "execution_count": 5,
   "id": "d2439b11",
   "metadata": {},
   "outputs": [
    {
     "name": "stdout",
     "output_type": "stream",
     "text": [
      "<xarray.Dataset> Size: 474MB\n",
      "Dimensions:         (valid_time: 1580, pressure_level: 1, latitude: 127,\n",
      "                     longitude: 118)\n",
      "Coordinates:\n",
      "    number          int64 8B ...\n",
      "  * valid_time      (valid_time) datetime64[ns] 13kB 2005-01-01T12:00:00 ... ...\n",
      "  * pressure_level  (pressure_level) float64 8B 850.0\n",
      "  * latitude        (latitude) float64 1kB 37.6 37.35 37.1 ... 6.6 6.35 6.1\n",
      "  * longitude       (longitude) float64 944B 68.1 68.35 68.6 ... 97.1 97.35\n",
      "    expver          (valid_time) <U4 25kB ...\n",
      "Data variables:\n",
      "    r               (valid_time, pressure_level, latitude, longitude) float32 95MB ...\n",
      "    q               (valid_time, pressure_level, latitude, longitude) float32 95MB ...\n",
      "    t               (valid_time, pressure_level, latitude, longitude) float32 95MB ...\n",
      "    u               (valid_time, pressure_level, latitude, longitude) float32 95MB ...\n",
      "    v               (valid_time, pressure_level, latitude, longitude) float32 95MB ...\n",
      "Attributes:\n",
      "    GRIB_centre:             ecmf\n",
      "    GRIB_centreDescription:  European Centre for Medium-Range Weather Forecasts\n",
      "    GRIB_subCentre:          0\n",
      "    Conventions:             CF-1.7\n",
      "    institution:             European Centre for Medium-Range Weather Forecasts\n",
      "    history:                 2025-05-19T07:38 GRIB to CDM+CF via cfgrib-0.9.1...\n"
     ]
    }
   ],
   "source": [
    "print(data)"
   ]
  },
  {
   "cell_type": "code",
   "execution_count": 6,
   "id": "5e48f50a",
   "metadata": {},
   "outputs": [
    {
     "name": "stdout",
     "output_type": "stream",
     "text": [
      "<xarray.DataArray 'r' (valid_time: 1580, pressure_level: 1, latitude: 127,\n",
      "                       longitude: 118)> Size: 95MB\n",
      "[23677880 values with dtype=float32]\n",
      "Coordinates:\n",
      "    number          int64 8B ...\n",
      "  * valid_time      (valid_time) datetime64[ns] 13kB 2005-01-01T12:00:00 ... ...\n",
      "  * pressure_level  (pressure_level) float64 8B 850.0\n",
      "  * latitude        (latitude) float64 1kB 37.6 37.35 37.1 ... 6.6 6.35 6.1\n",
      "  * longitude       (longitude) float64 944B 68.1 68.35 68.6 ... 97.1 97.35\n",
      "    expver          (valid_time) <U4 25kB ...\n",
      "Attributes: (12/31)\n",
      "    GRIB_paramId:                             157\n",
      "    GRIB_dataType:                            an\n",
      "    GRIB_numberOfPoints:                      14986\n",
      "    GRIB_typeOfLevel:                         isobaricInhPa\n",
      "    GRIB_stepUnits:                           1\n",
      "    GRIB_stepType:                            instant\n",
      "    ...                                       ...\n",
      "    GRIB_shortName:                           r\n",
      "    GRIB_totalNumber:                         0\n",
      "    GRIB_units:                               %\n",
      "    long_name:                                Relative humidity\n",
      "    units:                                    %\n",
      "    standard_name:                            relative_humidity\n"
     ]
    }
   ],
   "source": [
    "print(data['r'])"
   ]
  }
 ],
 "metadata": {
  "kernelspec": {
   "display_name": "Python 3",
   "language": "python",
   "name": "python3"
  },
  "language_info": {
   "codemirror_mode": {
    "name": "ipython",
    "version": 3
   },
   "file_extension": ".py",
   "mimetype": "text/x-python",
   "name": "python",
   "nbconvert_exporter": "python",
   "pygments_lexer": "ipython3",
   "version": "3.9.6"
  }
 },
 "nbformat": 4,
 "nbformat_minor": 5
}
